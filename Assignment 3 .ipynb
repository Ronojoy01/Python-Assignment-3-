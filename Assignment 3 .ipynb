{
 "cells": [
  {
   "cell_type": "markdown",
   "id": "d9710b44",
   "metadata": {},
   "source": [
    "                                     #Assignment 3 "
   ]
  },
  {
   "cell_type": "markdown",
   "id": "d1f7ac29",
   "metadata": {},
   "source": [
    "1. Why are functions advantageous to have in your programs?\n",
    "\n",
    "Ans - Function advantageous to have in program because, Functions reduce the need for duplicate code. This makes programs shorter, easier to read, and easier to update and also Improving clarity of the code."
   ]
  },
  {
   "cell_type": "markdown",
   "id": "6e959f1c",
   "metadata": {},
   "source": [
    "2. When does the code in a function run: when it's specified or when it's called?\n",
    "\n",
    "Ans - When a function is \"called\" the program \"leaves\" the current section of code and begins to execute the first line inside the function."
   ]
  },
  {
   "cell_type": "markdown",
   "id": "6931cc95",
   "metadata": {},
   "source": [
    "3.What statement creates a function?\n",
    "\n",
    "Ans - A function is created with the def keyword. The statements in the block of the function must be indented.The def keyword is followed by the function name with round brackets and a colon."
   ]
  },
  {
   "cell_type": "markdown",
   "id": "ee634419",
   "metadata": {},
   "source": [
    "4.What is the difference between a function and a function call?\n",
    "\n",
    "Ans - A function is a piece of code which enhanced the reusability and modularity of your program. It means that piece of code need not be written again. A function call means invoking or calling that function. Unless a function is called there is no use of that function."
   ]
  },
  {
   "cell_type": "markdown",
   "id": "d3332861",
   "metadata": {},
   "source": [
    "5. How many global scopes are there in a Python program? How many local scopes?\n",
    "\n",
    "Ans - There's only one global Python scope per program execution. This scope remains in existence until the program terminates and all its names are forgotten.\n",
    "\n",
    "Local (or function) scope is the code block or body of any Python function or lambda expression. This Python scope contains the names that we define inside the function. These names will only be visible from the code of the function."
   ]
  },
  {
   "cell_type": "markdown",
   "id": "b19f4ab8",
   "metadata": {},
   "source": [
    "6. What happens to variables in a local scope when the function call returns?\n",
    "\n",
    "Ans - When the execution of the function terminates (returns), the local variables are destroyed. Codelens helps to visualize this because the local variables disappear after the function returns."
   ]
  },
  {
   "cell_type": "markdown",
   "id": "1661f6f2",
   "metadata": {},
   "source": [
    "7. What is the concept of a return value? Is it possible to have a return value in an expression?\n",
    "\n",
    "Ans - In general, a function takes arguments (if any), performs some operations, and returns a value (or object). The value that a function returns to the caller is generally known as the function's return value. All Python functions have a return value, either explicit or implicit.\n",
    "\n",
    "We can use any Python object as a return value. Since everything in Python is an object, We can return strings, lists, tuples, dictionaries, functions, classes, instances, user-defined objects, and even modules or packages.\n",
    "\n"
   ]
  },
  {
   "cell_type": "markdown",
   "id": "42dcf0cf",
   "metadata": {},
   "source": [
    "8. If a function does not have a return statement, what is the return value of a call to that function?\n",
    "\n",
    "Ans - If no return statement appears in a function definition, control automatically returns to the calling function after the last statement of the called function is executed. In this case, the return value of the called function is undefined."
   ]
  },
  {
   "cell_type": "markdown",
   "id": "913b8513",
   "metadata": {},
   "source": [
    "9. How do you make a function variable refer to the global variable?\n",
    "\n",
    "Ans -If we want to refer to a global variable in a function, we can use the global keyword to declare which variables are global."
   ]
  },
  {
   "cell_type": "markdown",
   "id": "e2763c4e",
   "metadata": {},
   "source": [
    "10. What is the data type of None?\n",
    "\n",
    "Ans - The None keyword is used to define a null value, or no value at all. None is not the same as 0, False, or an empty string. None is a data type of its own (NoneType) and only None can be None."
   ]
  },
  {
   "cell_type": "markdown",
   "id": "fe43d854",
   "metadata": {},
   "source": [
    "11. What does the sentence import areallyourpetsnamederic do?\n",
    "\n",
    "Ans - This import statement imports a module named areallyourpetsnamederic."
   ]
  },
  {
   "cell_type": "markdown",
   "id": "5b80f16d",
   "metadata": {},
   "source": [
    "12. If you had a bacon() feature in a spam module, what would you call it after importing spam?\n",
    "\n",
    "Ans -This function can be called with spam. bacon()."
   ]
  },
  {
   "cell_type": "markdown",
   "id": "b0d5b829",
   "metadata": {},
   "source": [
    "13. What can you do to save a programme from crashing if it encounters an error?\n",
    "\n",
    "Ans - We should not run it. OR characterize what needs to be done to cause a crash and avoid doing that. OR analyze the crash state and fix the code or the hardware which might be causing bad behaviour on the part of the software."
   ]
  },
  {
   "cell_type": "markdown",
   "id": "ec86b07d",
   "metadata": {},
   "source": [
    "14. What is the purpose of the try clause? What is the purpose of the except clause?\n",
    "\n",
    "Ans - The Python try… except statement catches an exception. It is used to test code for an error which is written in the “try” statement. If an error is encountered, the contents of the “except” block are run."
   ]
  },
  {
   "cell_type": "code",
   "execution_count": null,
   "id": "379196af",
   "metadata": {},
   "outputs": [],
   "source": []
  }
 ],
 "metadata": {
  "kernelspec": {
   "display_name": "Python 3 (ipykernel)",
   "language": "python",
   "name": "python3"
  },
  "language_info": {
   "codemirror_mode": {
    "name": "ipython",
    "version": 3
   },
   "file_extension": ".py",
   "mimetype": "text/x-python",
   "name": "python",
   "nbconvert_exporter": "python",
   "pygments_lexer": "ipython3",
   "version": "3.9.7"
  }
 },
 "nbformat": 4,
 "nbformat_minor": 5
}
